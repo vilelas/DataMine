{
  "nbformat": 4,
  "nbformat_minor": 0,
  "metadata": {
    "colab": {
      "provenance": []
    },
    "kernelspec": {
      "name": "python3",
      "display_name": "Python 3"
    }
  },
  "cells": [
    {
      "cell_type": "markdown",
      "metadata": {
        "id": "wCq6bWm1xSe9"
      },
      "source": [
        "# **Classificação com KNN**"
      ]
    },
    {
      "cell_type": "markdown",
      "metadata": {
        "id": "3C1En4JCxYC9"
      },
      "source": [
        "* Aprendizado supervisionado\n",
        "* Mapeamento de um vetor de atributos para um atributo de classe\n",
        "* Seja $x_i$ um conjunto de $n$ instâncias pertencentes a uma classe $c$ \n",
        "  * $x_i$ tem dimensão $d$\n",
        "  * existem $m$ classes, $c \\in {c_1,...,c_m}$\n",
        "* Aprendizagem é identificar a função $f$ tal que:\n",
        "  * $f([x_{i1},x_{i2},...,x_{id}]) = c$"
      ]
    },
    {
      "cell_type": "markdown",
      "metadata": {
        "id": "xYfCMwPujETj"
      },
      "source": [
        "## **Classificação de Vinhos**"
      ]
    },
    {
      "cell_type": "markdown",
      "metadata": {
        "id": "PqsGkeH_jMxU"
      },
      "source": [
        "O Wine dataset é um conjunto de dados que contém informações sobre diferentes tipos de vinho. Ele foi criado por pesquisadores da Universidade de UCI e tornou-se um conjunto de dados popular para treinar algoritmos de aprendizado de máquina.\n",
        "\n",
        "O Wine dataset inclui informações sobre as características físico-químicas de três tipos diferentes de vinho (vinho tinto, vinho branco e vinho rosé) produzidos na região da Itália.\n",
        "\n",
        "As características incluídas no conjunto de dados são medidas físico-químicas, como o teor alcoólico, o magnésio e a acidez málica. Nosso objetivo é desenvolver uma máquina preditiva para **prever o tipo do vinho com base nas suas características físico-químicas.**\n"
      ]
    },
    {
      "cell_type": "markdown",
      "source": [
        "## **Dicionário de variáveis**"
      ],
      "metadata": {
        "id": "nYRm7h_jQtQ6"
      }
    },
    {
      "cell_type": "markdown",
      "source": [
        "* **Alcohol:**  O teor alcoólico do vinho é a quantidade de álcool presente no vinho, medida em porcentagem. O teor alcoólico é um fator importante na produção de vinho, pois pode afetar o sabor, a estrutura e a acidez do vinho.\n",
        "\n",
        "* **Malic acid:** A acidez málica é um tipo de acidez presente em muitos tipos de frutas, incluindo uvas. Ela é importante para o sabor e a estrutura do vinho, pois ajuda a equilibrar o teor de açúcar e o pH do vinho.\n",
        "\n",
        "* **Ash:** A cinza é uma medida da quantidade de minerais presentes no vinho, incluindo potássio, cálcio, sódio, magnésio e outros. A cinza pode afetar o sabor e a estrutura do vinho, bem como a sua cor e transparência.\n",
        "\n",
        "* **Alcalinity of ash:** A alcalinidade da cinza é a medida da capacidade da cinza de neutralizar ácidos. Ela pode ser influenciada pelos minerais presentes na cinza e pode afetar o pH do vinho.\n",
        "\n",
        "* **Magnesium:** O magnésio é um mineral presente em vários tipos de frutas, incluindo uvas. Ele pode afetar o sabor e a estrutura do vinho, bem como a sua cor e transparência.\n",
        "\n",
        "* **Total phenols:** Os fenóis totais são compostos químicos presentes nas uvas e no vinho que podem afetar o sabor, o aroma e a cor do vinho. Eles incluem compostos como tâninos e flavonóides.\n",
        "\n",
        "* **Flavanoids:** Os flavonóides são compostos químicos presentes nas uvas e no vinho que podem afetar o sabor, o aroma e a cor do vinho. Eles incluem compostos como os taninos e os antocianos.\n",
        "\n",
        "* **Nonflavanoid phenols:** Os fenóis não flavonóides são compostos químicos presentes nas uvas e no vinho que podem afetar o sabor, o aroma e a cor do vinho. Eles incluem compostos como o ácido cafeico e o ácido p-cumárico.\n",
        "\n",
        "* **Proanthocyanins:** Os proantocianidinas são compostos químicos presentes nas uvas e no vinho que podem afetar o sabor, o aroma e a cor do vinho. Eles são conhecidos por seu papel na produção de cor vermelha nos vinhos tintos\n",
        "\n",
        "* **Color intensity:** A intensidade da cor é a medida da cor do vinho, que pode variar de claro a escuro. A cor do vinho pode ser afetada por fatores como a variedade de uva utilizada, o clima, a região de produção e o método de produção.\n",
        "\n",
        "* **Hue:** O tom é a medida da tonalidade da cor do vinho, que pode variar de vermelho a roxo. A tonalidade da cor do vinho pode ser afetada por fatores como a variedade de uva utilizada, o clima, a região de produção e o método de produção.\n",
        "\n",
        "* **OD280/OD315 of diluted wines:** OD280/OD315 de vinhos diluídos é uma medida da absorção de luz pelo vinho em duas diferentes faixas de comprimento de onda. Ela pode ser utilizada para determinar a concentração de pigmentos no vinho, como os antocianos, que são responsáveis por sua cor.\n",
        "\n",
        "* **Proline:** A prolina é um aminoácido presente nas uvas e no vinho. Ela pode afetar o sabor e a estrutura do vinho, bem como a sua cor e transparência. A prolina também pode ser utilizada como marcador para determinar a variedade de uva utilizada na produção do vinho.\n",
        "  "
      ],
      "metadata": {
        "id": "8BFliJrjFdZL"
      }
    },
    {
      "cell_type": "markdown",
      "metadata": {
        "id": "EHG3vVurjkJa"
      },
      "source": [
        "## 1. Importar bibliotecas necessárias"
      ]
    },
    {
      "cell_type": "markdown",
      "source": [
        "**Para começar a trabalhar com o conjunto de dados, vamos importar os pacotes Pandas e Matplotlib/Seaborn, que são úteis para carregar e manipular os dados e para visualizar os resultados, respectivamente.**"
      ],
      "metadata": {
        "id": "NOdvXDdwIGzX"
      }
    },
    {
      "cell_type": "code",
      "metadata": {
        "id": "G817gEAqjlUV"
      },
      "source": [
        "# Importando bibliotecas\n",
        "import pandas as pd\n",
        "import matplotlib.pyplot as plt\n",
        "import seaborn as sns"
      ],
      "execution_count": 10,
      "outputs": []
    },
    {
      "cell_type": "markdown",
      "metadata": {
        "id": "dP4MRH6_jx2M"
      },
      "source": [
        "## 2. Análise exploratória dos dados"
      ]
    },
    {
      "cell_type": "code",
      "metadata": {
        "id": "JVcETU34jw8D",
        "colab": {
          "base_uri": "https://localhost:8080/",
          "height": 206
        },
        "outputId": "7cb4401e-0bfc-464e-c2b5-b478cadcec24"
      },
      "source": [
        "# lendo csv e armazenando em uma variável\n",
        "dados = pd.read_csv('wine.csv')\n",
        "dados.head()"
      ],
      "execution_count": 11,
      "outputs": [
        {
          "output_type": "execute_result",
          "data": {
            "text/plain": [
              "   Wine  Alcohol  Malic.acid   Ash   Acl   Mg  Phenols  Flavanoids  \\\n",
              "0     1    14.23        1.71  2.43  15.6  127     2.80        3.06   \n",
              "1     1    13.20        1.78  2.14  11.2  100     2.65        2.76   \n",
              "2     1    13.16        2.36  2.67  18.6  101     2.80        3.24   \n",
              "3     1    14.37        1.95  2.50  16.8  113     3.85        3.49   \n",
              "4     1    13.24        2.59  2.87  21.0  118     2.80        2.69   \n",
              "\n",
              "   Nonflavanoid.phenols  Proanth  Color.int   Hue    OD  Proline  \n",
              "0                  0.28     2.29       5.64  1.04  3.92     1065  \n",
              "1                  0.26     1.28       4.38  1.05  3.40     1050  \n",
              "2                  0.30     2.81       5.68  1.03  3.17     1185  \n",
              "3                  0.24     2.18       7.80  0.86  3.45     1480  \n",
              "4                  0.39     1.82       4.32  1.04  2.93      735  "
            ],
            "text/html": [
              "\n",
              "  <div id=\"df-234793c4-a16d-4562-b1e8-6b759a559e2e\">\n",
              "    <div class=\"colab-df-container\">\n",
              "      <div>\n",
              "<style scoped>\n",
              "    .dataframe tbody tr th:only-of-type {\n",
              "        vertical-align: middle;\n",
              "    }\n",
              "\n",
              "    .dataframe tbody tr th {\n",
              "        vertical-align: top;\n",
              "    }\n",
              "\n",
              "    .dataframe thead th {\n",
              "        text-align: right;\n",
              "    }\n",
              "</style>\n",
              "<table border=\"1\" class=\"dataframe\">\n",
              "  <thead>\n",
              "    <tr style=\"text-align: right;\">\n",
              "      <th></th>\n",
              "      <th>Wine</th>\n",
              "      <th>Alcohol</th>\n",
              "      <th>Malic.acid</th>\n",
              "      <th>Ash</th>\n",
              "      <th>Acl</th>\n",
              "      <th>Mg</th>\n",
              "      <th>Phenols</th>\n",
              "      <th>Flavanoids</th>\n",
              "      <th>Nonflavanoid.phenols</th>\n",
              "      <th>Proanth</th>\n",
              "      <th>Color.int</th>\n",
              "      <th>Hue</th>\n",
              "      <th>OD</th>\n",
              "      <th>Proline</th>\n",
              "    </tr>\n",
              "  </thead>\n",
              "  <tbody>\n",
              "    <tr>\n",
              "      <th>0</th>\n",
              "      <td>1</td>\n",
              "      <td>14.23</td>\n",
              "      <td>1.71</td>\n",
              "      <td>2.43</td>\n",
              "      <td>15.6</td>\n",
              "      <td>127</td>\n",
              "      <td>2.80</td>\n",
              "      <td>3.06</td>\n",
              "      <td>0.28</td>\n",
              "      <td>2.29</td>\n",
              "      <td>5.64</td>\n",
              "      <td>1.04</td>\n",
              "      <td>3.92</td>\n",
              "      <td>1065</td>\n",
              "    </tr>\n",
              "    <tr>\n",
              "      <th>1</th>\n",
              "      <td>1</td>\n",
              "      <td>13.20</td>\n",
              "      <td>1.78</td>\n",
              "      <td>2.14</td>\n",
              "      <td>11.2</td>\n",
              "      <td>100</td>\n",
              "      <td>2.65</td>\n",
              "      <td>2.76</td>\n",
              "      <td>0.26</td>\n",
              "      <td>1.28</td>\n",
              "      <td>4.38</td>\n",
              "      <td>1.05</td>\n",
              "      <td>3.40</td>\n",
              "      <td>1050</td>\n",
              "    </tr>\n",
              "    <tr>\n",
              "      <th>2</th>\n",
              "      <td>1</td>\n",
              "      <td>13.16</td>\n",
              "      <td>2.36</td>\n",
              "      <td>2.67</td>\n",
              "      <td>18.6</td>\n",
              "      <td>101</td>\n",
              "      <td>2.80</td>\n",
              "      <td>3.24</td>\n",
              "      <td>0.30</td>\n",
              "      <td>2.81</td>\n",
              "      <td>5.68</td>\n",
              "      <td>1.03</td>\n",
              "      <td>3.17</td>\n",
              "      <td>1185</td>\n",
              "    </tr>\n",
              "    <tr>\n",
              "      <th>3</th>\n",
              "      <td>1</td>\n",
              "      <td>14.37</td>\n",
              "      <td>1.95</td>\n",
              "      <td>2.50</td>\n",
              "      <td>16.8</td>\n",
              "      <td>113</td>\n",
              "      <td>3.85</td>\n",
              "      <td>3.49</td>\n",
              "      <td>0.24</td>\n",
              "      <td>2.18</td>\n",
              "      <td>7.80</td>\n",
              "      <td>0.86</td>\n",
              "      <td>3.45</td>\n",
              "      <td>1480</td>\n",
              "    </tr>\n",
              "    <tr>\n",
              "      <th>4</th>\n",
              "      <td>1</td>\n",
              "      <td>13.24</td>\n",
              "      <td>2.59</td>\n",
              "      <td>2.87</td>\n",
              "      <td>21.0</td>\n",
              "      <td>118</td>\n",
              "      <td>2.80</td>\n",
              "      <td>2.69</td>\n",
              "      <td>0.39</td>\n",
              "      <td>1.82</td>\n",
              "      <td>4.32</td>\n",
              "      <td>1.04</td>\n",
              "      <td>2.93</td>\n",
              "      <td>735</td>\n",
              "    </tr>\n",
              "  </tbody>\n",
              "</table>\n",
              "</div>\n",
              "      <button class=\"colab-df-convert\" onclick=\"convertToInteractive('df-234793c4-a16d-4562-b1e8-6b759a559e2e')\"\n",
              "              title=\"Convert this dataframe to an interactive table.\"\n",
              "              style=\"display:none;\">\n",
              "        \n",
              "  <svg xmlns=\"http://www.w3.org/2000/svg\" height=\"24px\"viewBox=\"0 0 24 24\"\n",
              "       width=\"24px\">\n",
              "    <path d=\"M0 0h24v24H0V0z\" fill=\"none\"/>\n",
              "    <path d=\"M18.56 5.44l.94 2.06.94-2.06 2.06-.94-2.06-.94-.94-2.06-.94 2.06-2.06.94zm-11 1L8.5 8.5l.94-2.06 2.06-.94-2.06-.94L8.5 2.5l-.94 2.06-2.06.94zm10 10l.94 2.06.94-2.06 2.06-.94-2.06-.94-.94-2.06-.94 2.06-2.06.94z\"/><path d=\"M17.41 7.96l-1.37-1.37c-.4-.4-.92-.59-1.43-.59-.52 0-1.04.2-1.43.59L10.3 9.45l-7.72 7.72c-.78.78-.78 2.05 0 2.83L4 21.41c.39.39.9.59 1.41.59.51 0 1.02-.2 1.41-.59l7.78-7.78 2.81-2.81c.8-.78.8-2.07 0-2.86zM5.41 20L4 18.59l7.72-7.72 1.47 1.35L5.41 20z\"/>\n",
              "  </svg>\n",
              "      </button>\n",
              "      \n",
              "  <style>\n",
              "    .colab-df-container {\n",
              "      display:flex;\n",
              "      flex-wrap:wrap;\n",
              "      gap: 12px;\n",
              "    }\n",
              "\n",
              "    .colab-df-convert {\n",
              "      background-color: #E8F0FE;\n",
              "      border: none;\n",
              "      border-radius: 50%;\n",
              "      cursor: pointer;\n",
              "      display: none;\n",
              "      fill: #1967D2;\n",
              "      height: 32px;\n",
              "      padding: 0 0 0 0;\n",
              "      width: 32px;\n",
              "    }\n",
              "\n",
              "    .colab-df-convert:hover {\n",
              "      background-color: #E2EBFA;\n",
              "      box-shadow: 0px 1px 2px rgba(60, 64, 67, 0.3), 0px 1px 3px 1px rgba(60, 64, 67, 0.15);\n",
              "      fill: #174EA6;\n",
              "    }\n",
              "\n",
              "    [theme=dark] .colab-df-convert {\n",
              "      background-color: #3B4455;\n",
              "      fill: #D2E3FC;\n",
              "    }\n",
              "\n",
              "    [theme=dark] .colab-df-convert:hover {\n",
              "      background-color: #434B5C;\n",
              "      box-shadow: 0px 1px 3px 1px rgba(0, 0, 0, 0.15);\n",
              "      filter: drop-shadow(0px 1px 2px rgba(0, 0, 0, 0.3));\n",
              "      fill: #FFFFFF;\n",
              "    }\n",
              "  </style>\n",
              "\n",
              "      <script>\n",
              "        const buttonEl =\n",
              "          document.querySelector('#df-234793c4-a16d-4562-b1e8-6b759a559e2e button.colab-df-convert');\n",
              "        buttonEl.style.display =\n",
              "          google.colab.kernel.accessAllowed ? 'block' : 'none';\n",
              "\n",
              "        async function convertToInteractive(key) {\n",
              "          const element = document.querySelector('#df-234793c4-a16d-4562-b1e8-6b759a559e2e');\n",
              "          const dataTable =\n",
              "            await google.colab.kernel.invokeFunction('convertToInteractive',\n",
              "                                                     [key], {});\n",
              "          if (!dataTable) return;\n",
              "\n",
              "          const docLinkHtml = 'Like what you see? Visit the ' +\n",
              "            '<a target=\"_blank\" href=https://colab.research.google.com/notebooks/data_table.ipynb>data table notebook</a>'\n",
              "            + ' to learn more about interactive tables.';\n",
              "          element.innerHTML = '';\n",
              "          dataTable['output_type'] = 'display_data';\n",
              "          await google.colab.output.renderOutput(dataTable, element);\n",
              "          const docLink = document.createElement('div');\n",
              "          docLink.innerHTML = docLinkHtml;\n",
              "          element.appendChild(docLink);\n",
              "        }\n",
              "      </script>\n",
              "    </div>\n",
              "  </div>\n",
              "  "
            ]
          },
          "metadata": {},
          "execution_count": 11
        }
      ]
    },
    {
      "cell_type": "markdown",
      "source": [
        "Vamos verificar a frequência da nossa variável alvo `Wine` atráves de um gráfico de barras.\n"
      ],
      "metadata": {
        "id": "p00pDLdOTV5U"
      }
    },
    {
      "cell_type": "code",
      "source": [
        "# Crie um gráfico de contagem dos valores da coluna \"Wine\" do dataframe dados\n",
        "fig, ax = plt.subplots(figsize=(10, 7))\n",
        "\n",
        "# Adicione um título ao gráfico\n",
        "ax.set_title(\"Contagem dos Valores da Coluna 'Wine'\", fontsize=18)\n",
        "\n",
        "# Adicione rótulos de eixo\n",
        "ax.set_xlabel(\"Valores da Coluna 'Wine'\", fontsize=14)\n",
        "ax.set_ylabel(\"Contagem\", fontsize=14)\n",
        "\n",
        "# Desenhe o gráfico de contagem usando a biblioteca seaborn\n",
        "sns.countplot(x ='Wine', data = dados, ax=ax)\n",
        "\n",
        "# Mostre o gráfico\n",
        "plt.show()"
      ],
      "metadata": {
        "colab": {
          "base_uri": "https://localhost:8080/",
          "height": 469
        },
        "id": "IaFOJmzLTWbd",
        "outputId": "26f7edfb-362e-4572-d2df-d680425590a1"
      },
      "execution_count": 12,
      "outputs": [
        {
          "output_type": "display_data",
          "data": {
            "text/plain": [
              "<Figure size 720x504 with 1 Axes>"
            ],
            "image/png": "[encoded data removed]"
          },
          "metadata": {}
        }
      ]
    },
    {
      "cell_type": "markdown",
      "source": [
        "Veremos agora a força da correlação entre as variáveis."
      ],
      "metadata": {
        "id": "sKC6xRQKTptz"
      }
    },
    {
      "cell_type": "code",
      "source": [
        "# Crie um gráfico de calor com as correlações entre as colunas do dataframe dados\n",
        "fig, ax = plt.subplots(figsize=(14, 10))\n",
        "\n",
        "# Adicione um título ao gráfico\n",
        "ax.set_title(\"Mapa de Calor das Correlações entre Colunas\", fontsize=18)\n",
        "\n",
        "# Adicione rótulos de eixo\n",
        "ax.set_xlabel(\"Colunas\", fontsize=14)\n",
        "ax.set_ylabel(\"Colunas\", fontsize=14)\n",
        "\n",
        "# Adicione os rótulos do eixo y na escala inversa\n",
        "ax.set_yticklabels(dados.columns[::-1], fontsize=12)\n",
        "\n",
        "# Desenhe o mapa de calor usando a biblioteca seaborn\n",
        "sns.heatmap(dados.corr(), annot=True, cmap='viridis', ax=ax, vmin=-1, vmax=1)\n",
        "\n",
        "# Mostre o gráfico\n",
        "plt.show()"
      ],
      "metadata": {
        "colab": {
          "base_uri": "https://localhost:8080/",
          "height": 724
        },
        "id": "FtHzGVi9TpHT",
        "outputId": "0a2ad00a-5772-47b6-d593-6fc65e4a8583"
      },
      "execution_count": 13,
      "outputs": [
        {
          "output_type": "display_data",
          "data": {
            "text/plain": [
              "<Figure size 1008x720 with 2 Axes>"
            ],
            "image/png": "[encoded data removed]"
          },
          "metadata": {}
        }
      ]
    },
    {
      "cell_type": "markdown",
      "metadata": {
        "id": "tJJnoasZkFTe"
      },
      "source": [
        "## 3. Organizando dados para modelagem"
      ]
    },
    {
      "cell_type": "code",
      "metadata": {
        "id": "u_Q09IX2lzeC",
        "colab": {
          "base_uri": "https://localhost:8080/",
          "height": 206
        },
        "outputId": "2eae15f6-25e2-4a79-812d-55b64f9e4343"
      },
      "source": [
        "# dividindo dados em atributos descritores e atributo de classe\n",
        "X = dados.iloc[:,1:]\n",
        "X.head()"
      ],
      "execution_count": 14,
      "outputs": [
        {
          "output_type": "execute_result",
          "data": {
            "text/plain": [
              "   Alcohol  Malic.acid   Ash   Acl   Mg  Phenols  Flavanoids  \\\n",
              "0    14.23        1.71  2.43  15.6  127     2.80        3.06   \n",
              "1    13.20        1.78  2.14  11.2  100     2.65        2.76   \n",
              "2    13.16        2.36  2.67  18.6  101     2.80        3.24   \n",
              "3    14.37        1.95  2.50  16.8  113     3.85        3.49   \n",
              "4    13.24        2.59  2.87  21.0  118     2.80        2.69   \n",
              "\n",
              "   Nonflavanoid.phenols  Proanth  Color.int   Hue    OD  Proline  \n",
              "0                  0.28     2.29       5.64  1.04  3.92     1065  \n",
              "1                  0.26     1.28       4.38  1.05  3.40     1050  \n",
              "2                  0.30     2.81       5.68  1.03  3.17     1185  \n",
              "3                  0.24     2.18       7.80  0.86  3.45     1480  \n",
              "4                  0.39     1.82       4.32  1.04  2.93      735  "
            ],
            "text/html": [
              "\n",
              "  <div id=\"df-455d8356-b3ae-41ec-96e1-e53236dd22aa\">\n",
              "    <div class=\"colab-df-container\">\n",
              "      <div>\n",
              "<style scoped>\n",
              "    .dataframe tbody tr th:only-of-type {\n",
              "        vertical-align: middle;\n",
              "    }\n",
              "\n",
              "    .dataframe tbody tr th {\n",
              "        vertical-align: top;\n",
              "    }\n",
              "\n",
              "    .dataframe thead th {\n",
              "        text-align: right;\n",
              "    }\n",
              "</style>\n",
              "<table border=\"1\" class=\"dataframe\">\n",
              "  <thead>\n",
              "    <tr style=\"text-align: right;\">\n",
              "      <th></th>\n",
              "      <th>Alcohol</th>\n",
              "      <th>Malic.acid</th>\n",
              "      <th>Ash</th>\n",
              "      <th>Acl</th>\n",
              "      <th>Mg</th>\n",
              "      <th>Phenols</th>\n",
              "      <th>Flavanoids</th>\n",
              "      <th>Nonflavanoid.phenols</th>\n",
              "      <th>Proanth</th>\n",
              "      <th>Color.int</th>\n",
              "      <th>Hue</th>\n",
              "      <th>OD</th>\n",
              "      <th>Proline</th>\n",
              "    </tr>\n",
              "  </thead>\n",
              "  <tbody>\n",
              "    <tr>\n",
              "      <th>0</th>\n",
              "      <td>14.23</td>\n",
              "      <td>1.71</td>\n",
              "      <td>2.43</td>\n",
              "      <td>15.6</td>\n",
              "      <td>127</td>\n",
              "      <td>2.80</td>\n",
              "      <td>3.06</td>\n",
              "      <td>0.28</td>\n",
              "      <td>2.29</td>\n",
              "      <td>5.64</td>\n",
              "      <td>1.04</td>\n",
              "      <td>3.92</td>\n",
              "      <td>1065</td>\n",
              "    </tr>\n",
              "    <tr>\n",
              "      <th>1</th>\n",
              "      <td>13.20</td>\n",
              "      <td>1.78</td>\n",
              "      <td>2.14</td>\n",
              "      <td>11.2</td>\n",
              "      <td>100</td>\n",
              "      <td>2.65</td>\n",
              "      <td>2.76</td>\n",
              "      <td>0.26</td>\n",
              "      <td>1.28</td>\n",
              "      <td>4.38</td>\n",
              "      <td>1.05</td>\n",
              "      <td>3.40</td>\n",
              "      <td>1050</td>\n",
              "    </tr>\n",
              "    <tr>\n",
              "      <th>2</th>\n",
              "      <td>13.16</td>\n",
              "      <td>2.36</td>\n",
              "      <td>2.67</td>\n",
              "      <td>18.6</td>\n",
              "      <td>101</td>\n",
              "      <td>2.80</td>\n",
              "      <td>3.24</td>\n",
              "      <td>0.30</td>\n",
              "      <td>2.81</td>\n",
              "      <td>5.68</td>\n",
              "      <td>1.03</td>\n",
              "      <td>3.17</td>\n",
              "      <td>1185</td>\n",
              "    </tr>\n",
              "    <tr>\n",
              "      <th>3</th>\n",
              "      <td>14.37</td>\n",
              "      <td>1.95</td>\n",
              "      <td>2.50</td>\n",
              "      <td>16.8</td>\n",
              "      <td>113</td>\n",
              "      <td>3.85</td>\n",
              "      <td>3.49</td>\n",
              "      <td>0.24</td>\n",
              "      <td>2.18</td>\n",
              "      <td>7.80</td>\n",
              "      <td>0.86</td>\n",
              "      <td>3.45</td>\n",
              "      <td>1480</td>\n",
              "    </tr>\n",
              "    <tr>\n",
              "      <th>4</th>\n",
              "      <td>13.24</td>\n",
              "      <td>2.59</td>\n",
              "      <td>2.87</td>\n",
              "      <td>21.0</td>\n",
              "      <td>118</td>\n",
              "      <td>2.80</td>\n",
              "      <td>2.69</td>\n",
              "      <td>0.39</td>\n",
              "      <td>1.82</td>\n",
              "      <td>4.32</td>\n",
              "      <td>1.04</td>\n",
              "      <td>2.93</td>\n",
              "      <td>735</td>\n",
              "    </tr>\n",
              "  </tbody>\n",
              "</table>\n",
              "</div>\n",
              "      <button class=\"colab-df-convert\" onclick=\"convertToInteractive('df-455d8356-b3ae-41ec-96e1-e53236dd22aa')\"\n",
              "              title=\"Convert this dataframe to an interactive table.\"\n",
              "              style=\"display:none;\">\n",
              "        \n",
              "  <svg xmlns=\"http://www.w3.org/2000/svg\" height=\"24px\"viewBox=\"0 0 24 24\"\n",
              "       width=\"24px\">\n",
              "    <path d=\"M0 0h24v24H0V0z\" fill=\"none\"/>\n",
              "    <path d=\"M18.56 5.44l.94 2.06.94-2.06 2.06-.94-2.06-.94-.94-2.06-.94 2.06-2.06.94zm-11 1L8.5 8.5l.94-2.06 2.06-.94-2.06-.94L8.5 2.5l-.94 2.06-2.06.94zm10 10l.94 2.06.94-2.06 2.06-.94-2.06-.94-.94-2.06-.94 2.06-2.06.94z\"/><path d=\"M17.41 7.96l-1.37-1.37c-.4-.4-.92-.59-1.43-.59-.52 0-1.04.2-1.43.59L10.3 9.45l-7.72 7.72c-.78.78-.78 2.05 0 2.83L4 21.41c.39.39.9.59 1.41.59.51 0 1.02-.2 1.41-.59l7.78-7.78 2.81-2.81c.8-.78.8-2.07 0-2.86zM5.41 20L4 18.59l7.72-7.72 1.47 1.35L5.41 20z\"/>\n",
              "  </svg>\n",
              "      </button>\n",
              "      \n",
              "  <style>\n",
              "    .colab-df-container {\n",
              "      display:flex;\n",
              "      flex-wrap:wrap;\n",
              "      gap: 12px;\n",
              "    }\n",
              "\n",
              "    .colab-df-convert {\n",
              "      background-color: #E8F0FE;\n",
              "      border: none;\n",
              "      border-radius: 50%;\n",
              "      cursor: pointer;\n",
              "      display: none;\n",
              "      fill: #1967D2;\n",
              "      height: 32px;\n",
              "      padding: 0 0 0 0;\n",
              "      width: 32px;\n",
              "    }\n",
              "\n",
              "    .colab-df-convert:hover {\n",
              "      background-color: #E2EBFA;\n",
              "      box-shadow: 0px 1px 2px rgba(60, 64, 67, 0.3), 0px 1px 3px 1px rgba(60, 64, 67, 0.15);\n",
              "      fill: #174EA6;\n",
              "    }\n",
              "\n",
              "    [theme=dark] .colab-df-convert {\n",
              "      background-color: #3B4455;\n",
              "      fill: #D2E3FC;\n",
              "    }\n",
              "\n",
              "    [theme=dark] .colab-df-convert:hover {\n",
              "      background-color: #434B5C;\n",
              "      box-shadow: 0px 1px 3px 1px rgba(0, 0, 0, 0.15);\n",
              "      filter: drop-shadow(0px 1px 2px rgba(0, 0, 0, 0.3));\n",
              "      fill: #FFFFFF;\n",
              "    }\n",
              "  </style>\n",
              "\n",
              "      <script>\n",
              "        const buttonEl =\n",
              "          document.querySelector('#df-455d8356-b3ae-41ec-96e1-e53236dd22aa button.colab-df-convert');\n",
              "        buttonEl.style.display =\n",
              "          google.colab.kernel.accessAllowed ? 'block' : 'none';\n",
              "\n",
              "        async function convertToInteractive(key) {\n",
              "          const element = document.querySelector('#df-455d8356-b3ae-41ec-96e1-e53236dd22aa');\n",
              "          const dataTable =\n",
              "            await google.colab.kernel.invokeFunction('convertToInteractive',\n",
              "                                                     [key], {});\n",
              "          if (!dataTable) return;\n",
              "\n",
              "          const docLinkHtml = 'Like what you see? Visit the ' +\n",
              "            '<a target=\"_blank\" href=https://colab.research.google.com/notebooks/data_table.ipynb>data table notebook</a>'\n",
              "            + ' to learn more about interactive tables.';\n",
              "          element.innerHTML = '';\n",
              "          dataTable['output_type'] = 'display_data';\n",
              "          await google.colab.output.renderOutput(dataTable, element);\n",
              "          const docLink = document.createElement('div');\n",
              "          docLink.innerHTML = docLinkHtml;\n",
              "          element.appendChild(docLink);\n",
              "        }\n",
              "      </script>\n",
              "    </div>\n",
              "  </div>\n",
              "  "
            ]
          },
          "metadata": {},
          "execution_count": 14
        }
      ]
    },
    {
      "cell_type": "code",
      "metadata": {
        "id": "ZTIdaPzPmJLt",
        "colab": {
          "base_uri": "https://localhost:8080/"
        },
        "outputId": "0c5c3313-c592-4f50-9990-f3ed5ece99ad"
      },
      "source": [
        "y = dados.Wine\n",
        "y.head()"
      ],
      "execution_count": 15,
      "outputs": [
        {
          "output_type": "execute_result",
          "data": {
            "text/plain": [
              "0    1\n",
              "1    1\n",
              "2    1\n",
              "3    1\n",
              "4    1\n",
              "Name: Wine, dtype: int64"
            ]
          },
          "metadata": {},
          "execution_count": 15
        }
      ]
    },
    {
      "cell_type": "markdown",
      "metadata": {
        "id": "LwGz4qFCmsen"
      },
      "source": [
        "### Dividindo os dados em treino e teste"
      ]
    },
    {
      "cell_type": "code",
      "metadata": {
        "id": "GinSY_tTlZTy"
      },
      "source": [
        "from sklearn.model_selection import train_test_split"
      ],
      "execution_count": 16,
      "outputs": []
    },
    {
      "cell_type": "markdown",
      "metadata": {
        "id": "dUDHN6phzv6g"
      },
      "source": [
        "* Divide a matriz em subconjuntos aleatórios de treino e teste\n",
        "* test_size: tamanho do subconjunto de teste (em percentual)\n",
        "* random_state: define a semente para a aleatoriedade (se não definido, semente aleatória)"
      ]
    },
    {
      "cell_type": "code",
      "metadata": {
        "id": "3TY7h0UllqpS"
      },
      "source": [
        "X_train, X_test, y_train, y_test = train_test_split(X,y, test_size=0.2)"
      ],
      "execution_count": 17,
      "outputs": []
    },
    {
      "cell_type": "code",
      "metadata": {
        "id": "oFW7YP_xpT8x",
        "colab": {
          "base_uri": "https://localhost:8080/",
          "height": 206
        },
        "outputId": "4207a34a-852a-4e32-9a82-c6cc89e9f431"
      },
      "source": [
        "X_train.head()"
      ],
      "execution_count": 18,
      "outputs": [
        {
          "output_type": "execute_result",
          "data": {
            "text/plain": [
              "     Alcohol  Malic.acid   Ash   Acl   Mg  Phenols  Flavanoids  \\\n",
              "41     13.41        3.84  2.12  18.8   90     2.45        2.68   \n",
              "102    12.34        2.45  2.46  21.0   98     2.56        2.11   \n",
              "26     13.39        1.77  2.62  16.1   93     2.85        2.94   \n",
              "52     13.82        1.75  2.42  14.0  111     3.88        3.74   \n",
              "49     13.94        1.73  2.27  17.4  108     2.88        3.54   \n",
              "\n",
              "     Nonflavanoid.phenols  Proanth  Color.int   Hue    OD  Proline  \n",
              "41                   0.27     1.48       4.28  0.91  3.00     1035  \n",
              "102                  0.34     1.31       2.80  0.80  3.38      438  \n",
              "26                   0.34     1.45       4.80  0.92  3.22     1195  \n",
              "52                   0.32     1.87       7.05  1.01  3.26     1190  \n",
              "49                   0.32     2.08       8.90  1.12  3.10     1260  "
            ],
            "text/html": [
              "\n",
              "  <div id=\"df-3fde4388-2992-4414-bf53-3f810ff6a3fa\">\n",
              "    <div class=\"colab-df-container\">\n",
              "      <div>\n",
              "<style scoped>\n",
              "    .dataframe tbody tr th:only-of-type {\n",
              "        vertical-align: middle;\n",
              "    }\n",
              "\n",
              "    .dataframe tbody tr th {\n",
              "        vertical-align: top;\n",
              "    }\n",
              "\n",
              "    .dataframe thead th {\n",
              "        text-align: right;\n",
              "    }\n",
              "</style>\n",
              "<table border=\"1\" class=\"dataframe\">\n",
              "  <thead>\n",
              "    <tr style=\"text-align: right;\">\n",
              "      <th></th>\n",
              "      <th>Alcohol</th>\n",
              "      <th>Malic.acid</th>\n",
              "      <th>Ash</th>\n",
              "      <th>Acl</th>\n",
              "      <th>Mg</th>\n",
              "      <th>Phenols</th>\n",
              "      <th>Flavanoids</th>\n",
              "      <th>Nonflavanoid.phenols</th>\n",
              "      <th>Proanth</th>\n",
              "      <th>Color.int</th>\n",
              "      <th>Hue</th>\n",
              "      <th>OD</th>\n",
              "      <th>Proline</th>\n",
              "    </tr>\n",
              "  </thead>\n",
              "  <tbody>\n",
              "    <tr>\n",
              "      <th>41</th>\n",
              "      <td>13.41</td>\n",
              "      <td>3.84</td>\n",
              "      <td>2.12</td>\n",
              "      <td>18.8</td>\n",
              "      <td>90</td>\n",
              "      <td>2.45</td>\n",
              "      <td>2.68</td>\n",
              "      <td>0.27</td>\n",
              "      <td>1.48</td>\n",
              "      <td>4.28</td>\n",
              "      <td>0.91</td>\n",
              "      <td>3.00</td>\n",
              "      <td>1035</td>\n",
              "    </tr>\n",
              "    <tr>\n",
              "      <th>102</th>\n",
              "      <td>12.34</td>\n",
              "      <td>2.45</td>\n",
              "      <td>2.46</td>\n",
              "      <td>21.0</td>\n",
              "      <td>98</td>\n",
              "      <td>2.56</td>\n",
              "      <td>2.11</td>\n",
              "      <td>0.34</td>\n",
              "      <td>1.31</td>\n",
              "      <td>2.80</td>\n",
              "      <td>0.80</td>\n",
              "      <td>3.38</td>\n",
              "      <td>438</td>\n",
              "    </tr>\n",
              "    <tr>\n",
              "      <th>26</th>\n",
              "      <td>13.39</td>\n",
              "      <td>1.77</td>\n",
              "      <td>2.62</td>\n",
              "      <td>16.1</td>\n",
              "      <td>93</td>\n",
              "      <td>2.85</td>\n",
              "      <td>2.94</td>\n",
              "      <td>0.34</td>\n",
              "      <td>1.45</td>\n",
              "      <td>4.80</td>\n",
              "      <td>0.92</td>\n",
              "      <td>3.22</td>\n",
              "      <td>1195</td>\n",
              "    </tr>\n",
              "    <tr>\n",
              "      <th>52</th>\n",
              "      <td>13.82</td>\n",
              "      <td>1.75</td>\n",
              "      <td>2.42</td>\n",
              "      <td>14.0</td>\n",
              "      <td>111</td>\n",
              "      <td>3.88</td>\n",
              "      <td>3.74</td>\n",
              "      <td>0.32</td>\n",
              "      <td>1.87</td>\n",
              "      <td>7.05</td>\n",
              "      <td>1.01</td>\n",
              "      <td>3.26</td>\n",
              "      <td>1190</td>\n",
              "    </tr>\n",
              "    <tr>\n",
              "      <th>49</th>\n",
              "      <td>13.94</td>\n",
              "      <td>1.73</td>\n",
              "      <td>2.27</td>\n",
              "      <td>17.4</td>\n",
              "      <td>108</td>\n",
              "      <td>2.88</td>\n",
              "      <td>3.54</td>\n",
              "      <td>0.32</td>\n",
              "      <td>2.08</td>\n",
              "      <td>8.90</td>\n",
              "      <td>1.12</td>\n",
              "      <td>3.10</td>\n",
              "      <td>1260</td>\n",
              "    </tr>\n",
              "  </tbody>\n",
              "</table>\n",
              "</div>\n",
              "      <button class=\"colab-df-convert\" onclick=\"convertToInteractive('df-3fde4388-2992-4414-bf53-3f810ff6a3fa')\"\n",
              "              title=\"Convert this dataframe to an interactive table.\"\n",
              "              style=\"display:none;\">\n",
              "        \n",
              "  <svg xmlns=\"http://www.w3.org/2000/svg\" height=\"24px\"viewBox=\"0 0 24 24\"\n",
              "       width=\"24px\">\n",
              "    <path d=\"M0 0h24v24H0V0z\" fill=\"none\"/>\n",
              "    <path d=\"M18.56 5.44l.94 2.06.94-2.06 2.06-.94-2.06-.94-.94-2.06-.94 2.06-2.06.94zm-11 1L8.5 8.5l.94-2.06 2.06-.94-2.06-.94L8.5 2.5l-.94 2.06-2.06.94zm10 10l.94 2.06.94-2.06 2.06-.94-2.06-.94-.94-2.06-.94 2.06-2.06.94z\"/><path d=\"M17.41 7.96l-1.37-1.37c-.4-.4-.92-.59-1.43-.59-.52 0-1.04.2-1.43.59L10.3 9.45l-7.72 7.72c-.78.78-.78 2.05 0 2.83L4 21.41c.39.39.9.59 1.41.59.51 0 1.02-.2 1.41-.59l7.78-7.78 2.81-2.81c.8-.78.8-2.07 0-2.86zM5.41 20L4 18.59l7.72-7.72 1.47 1.35L5.41 20z\"/>\n",
              "  </svg>\n",
              "      </button>\n",
              "      \n",
              "  <style>\n",
              "    .colab-df-container {\n",
              "      display:flex;\n",
              "      flex-wrap:wrap;\n",
              "      gap: 12px;\n",
              "    }\n",
              "\n",
              "    .colab-df-convert {\n",
              "      background-color: #E8F0FE;\n",
              "      border: none;\n",
              "      border-radius: 50%;\n",
              "      cursor: pointer;\n",
              "      display: none;\n",
              "      fill: #1967D2;\n",
              "      height: 32px;\n",
              "      padding: 0 0 0 0;\n",
              "      width: 32px;\n",
              "    }\n",
              "\n",
              "    .colab-df-convert:hover {\n",
              "      background-color: #E2EBFA;\n",
              "      box-shadow: 0px 1px 2px rgba(60, 64, 67, 0.3), 0px 1px 3px 1px rgba(60, 64, 67, 0.15);\n",
              "      fill: #174EA6;\n",
              "    }\n",
              "\n",
              "    [theme=dark] .colab-df-convert {\n",
              "      background-color: #3B4455;\n",
              "      fill: #D2E3FC;\n",
              "    }\n",
              "\n",
              "    [theme=dark] .colab-df-convert:hover {\n",
              "      background-color: #434B5C;\n",
              "      box-shadow: 0px 1px 3px 1px rgba(0, 0, 0, 0.15);\n",
              "      filter: drop-shadow(0px 1px 2px rgba(0, 0, 0, 0.3));\n",
              "      fill: #FFFFFF;\n",
              "    }\n",
              "  </style>\n",
              "\n",
              "      <script>\n",
              "        const buttonEl =\n",
              "          document.querySelector('#df-3fde4388-2992-4414-bf53-3f810ff6a3fa button.colab-df-convert');\n",
              "        buttonEl.style.display =\n",
              "          google.colab.kernel.accessAllowed ? 'block' : 'none';\n",
              "\n",
              "        async function convertToInteractive(key) {\n",
              "          const element = document.querySelector('#df-3fde4388-2992-4414-bf53-3f810ff6a3fa');\n",
              "          const dataTable =\n",
              "            await google.colab.kernel.invokeFunction('convertToInteractive',\n",
              "                                                     [key], {});\n",
              "          if (!dataTable) return;\n",
              "\n",
              "          const docLinkHtml = 'Like what you see? Visit the ' +\n",
              "            '<a target=\"_blank\" href=https://colab.research.google.com/notebooks/data_table.ipynb>data table notebook</a>'\n",
              "            + ' to learn more about interactive tables.';\n",
              "          element.innerHTML = '';\n",
              "          dataTable['output_type'] = 'display_data';\n",
              "          await google.colab.output.renderOutput(dataTable, element);\n",
              "          const docLink = document.createElement('div');\n",
              "          docLink.innerHTML = docLinkHtml;\n",
              "          element.appendChild(docLink);\n",
              "        }\n",
              "      </script>\n",
              "    </div>\n",
              "  </div>\n",
              "  "
            ]
          },
          "metadata": {},
          "execution_count": 18
        }
      ]
    },
    {
      "cell_type": "code",
      "metadata": {
        "id": "oQ8riK2Im2Ik",
        "colab": {
          "base_uri": "https://localhost:8080/"
        },
        "outputId": "d134452b-db1d-4839-af37-93663d9e075f"
      },
      "source": [
        "y_train.head()"
      ],
      "execution_count": 19,
      "outputs": [
        {
          "output_type": "execute_result",
          "data": {
            "text/plain": [
              "41     1\n",
              "102    2\n",
              "26     1\n",
              "52     1\n",
              "49     1\n",
              "Name: Wine, dtype: int64"
            ]
          },
          "metadata": {},
          "execution_count": 19
        }
      ]
    },
    {
      "cell_type": "markdown",
      "metadata": {
        "id": "p4ns1Hc-nqCq"
      },
      "source": [
        "## 4. Definindo algoritmo de aprendizado"
      ]
    },
    {
      "cell_type": "markdown",
      "metadata": {
        "id": "DlVkVeZz0VN2"
      },
      "source": [
        "* KNN\n",
        "   * k = 3 \n",
        "   * distância euclidiana"
      ]
    },
    {
      "cell_type": "code",
      "metadata": {
        "id": "R060QCRyle3v"
      },
      "source": [
        "from sklearn.neighbors import KNeighborsClassifier"
      ],
      "execution_count": 20,
      "outputs": []
    },
    {
      "cell_type": "code",
      "metadata": {
        "id": "iujA_MQCnvS8"
      },
      "source": [
        "#definindo modelo\n",
        "classificador = KNeighborsClassifier(n_neighbors=3,metric='euclidean')"
      ],
      "execution_count": 21,
      "outputs": []
    },
    {
      "cell_type": "code",
      "metadata": {
        "id": "jKPsspvNnvcU",
        "colab": {
          "base_uri": "https://localhost:8080/"
        },
        "outputId": "78fb332f-396e-4deb-9402-aa8e0f4c6bd5"
      },
      "source": [
        "#treinando modelo\n",
        "classificador.fit(X_train,y_train)"
      ],
      "execution_count": 22,
      "outputs": [
        {
          "output_type": "execute_result",
          "data": {
            "text/plain": [
              "KNeighborsClassifier(metric='euclidean', n_neighbors=3)"
            ]
          },
          "metadata": {},
          "execution_count": 22
        }
      ]
    },
    {
      "cell_type": "code",
      "metadata": {
        "id": "oznlyR7Qn_L6",
        "colab": {
          "base_uri": "https://localhost:8080/"
        },
        "outputId": "c70630f0-f179-4f39-aaf0-3a3ad48573c1"
      },
      "source": [
        "#realizando classificação\n",
        "classificacao = classificador.predict(X_test)\n",
        "classificacao"
      ],
      "execution_count": 23,
      "outputs": [
        {
          "output_type": "execute_result",
          "data": {
            "text/plain": [
              "array([2, 1, 3, 2, 3, 2, 1, 2, 2, 3, 2, 3, 1, 3, 3, 3, 2, 1, 1, 1, 2, 1,\n",
              "       2, 2, 3, 1, 3, 1, 1, 2, 1, 1, 1, 1, 3, 1])"
            ]
          },
          "metadata": {},
          "execution_count": 23
        }
      ]
    },
    {
      "cell_type": "markdown",
      "metadata": {
        "id": "NV76fkrNpkco"
      },
      "source": [
        "## 5. Avaliação do classificador"
      ]
    },
    {
      "cell_type": "code",
      "metadata": {
        "id": "aa4TCBSpqwnq"
      },
      "source": [
        "#calculando acurácia\n",
        "from sklearn.metrics import accuracy_score"
      ],
      "execution_count": 24,
      "outputs": []
    },
    {
      "cell_type": "code",
      "metadata": {
        "id": "X_FGS639rCIR",
        "colab": {
          "base_uri": "https://localhost:8080/"
        },
        "outputId": "538c45a8-adfc-48e8-ad6b-d30382b81148"
      },
      "source": [
        "acuracia = accuracy_score(y_test,classificacao)\n",
        "acuracia"
      ],
      "execution_count": 25,
      "outputs": [
        {
          "output_type": "execute_result",
          "data": {
            "text/plain": [
              "0.7222222222222222"
            ]
          },
          "metadata": {},
          "execution_count": 25
        }
      ]
    },
    {
      "cell_type": "markdown",
      "metadata": {
        "id": "S0f6-FrrveF-"
      },
      "source": [
        "## Validação cruzada\n"
      ]
    },
    {
      "cell_type": "markdown",
      "source": [
        "* A validação cruzada k-fold é um método de avaliação de modelos de aprendizado de máquina que envolve a divisão dos dados de treinamento em k subconjuntos (ou \"dobras\") de igual tamanho. O modelo é então treinado em k-1 dobras e testado na dobra restante. Este processo é repetido k vezes, com uma dobra diferente sendo usada como a dobra de teste em cada iteração. A pontuação final é a média das pontuações obtidas em cada iteração.\n",
        "\n",
        "* A validação cruzada k-fold é útil porque fornece uma pontuação média mais precisa do que apenas treinar e testar o modelo uma vez, pois ela permite que todos os dados de treinamento sejam usados para validação pelo menos uma vez."
      ],
      "metadata": {
        "id": "Yhk7kbF6Z6gN"
      }
    },
    {
      "cell_type": "code",
      "metadata": {
        "id": "w-P0FEHld2Dj"
      },
      "source": [
        "# montando os folds para validação cruzada\n",
        "from sklearn.model_selection import KFold"
      ],
      "execution_count": 26,
      "outputs": []
    },
    {
      "cell_type": "code",
      "metadata": {
        "id": "vgfs8_Xwd5hc"
      },
      "source": [
        "kf = KFold(n_splits=5)"
      ],
      "execution_count": 27,
      "outputs": []
    },
    {
      "cell_type": "code",
      "metadata": {
        "id": "RMyRfcDBbjX4"
      },
      "source": [
        "# avaliando modelo com cross validation\n",
        "from sklearn.model_selection import cross_val_score"
      ],
      "execution_count": 28,
      "outputs": []
    },
    {
      "cell_type": "code",
      "metadata": {
        "id": "kVW_YaJsb3Bd"
      },
      "source": [
        "#define modelo\n",
        "classificador = KNeighborsClassifier(n_neighbors=3,metric='euclidean')"
      ],
      "execution_count": 29,
      "outputs": []
    },
    {
      "cell_type": "code",
      "metadata": {
        "id": "2e_q9hjyb7Qk",
        "colab": {
          "base_uri": "https://localhost:8080/"
        },
        "outputId": "0ebbcea5-ebbf-4a45-b74a-9c41ef3153b9"
      },
      "source": [
        "#calculando os scores\n",
        "scores = cross_val_score(classificador,X,y,cv=10)\n",
        "scores"
      ],
      "execution_count": 30,
      "outputs": [
        {
          "output_type": "execute_result",
          "data": {
            "text/plain": [
              "array([0.66666667, 0.61111111, 0.66666667, 0.66666667, 0.66666667,\n",
              "       0.66666667, 0.72222222, 0.77777778, 0.88235294, 0.88235294])"
            ]
          },
          "metadata": {},
          "execution_count": 30
        }
      ]
    },
    {
      "cell_type": "code",
      "metadata": {
        "id": "l6_Pq7H-dZ8g",
        "colab": {
          "base_uri": "https://localhost:8080/"
        },
        "outputId": "10342376-a882-4bb1-e64d-b4eb07989393"
      },
      "source": [
        "scores.mean(),scores.std()"
      ],
      "execution_count": 31,
      "outputs": [
        {
          "output_type": "execute_result",
          "data": {
            "text/plain": [
              "(0.7209150326797384, 0.09062604724441718)"
            ]
          },
          "metadata": {},
          "execution_count": 31
        }
      ]
    }
  ]
}